{
 "cells": [
  {
   "cell_type": "code",
   "execution_count": 25,
   "metadata": {},
   "outputs": [],
   "source": [
    "import pandas as pd\n",
    "import os\n",
    "filepath = os.path.abspath('')\n",
    "samplesFilepath = filepath + '/data-from-samples.csv'\n",
    "calibrationFilepath = filepath + '/calibration-data.csv'"
   ]
  },
  {
   "cell_type": "code",
   "execution_count": 26,
   "metadata": {},
   "outputs": [
    {
     "name": "stdout",
     "output_type": "stream",
     "text": [
      "   Current  Voltage   High    Low\n",
      "0     1.50      0.4 -0.643  0.449\n",
      "1     0.00      0.0  0.003    NaN\n",
      "2    -1.50      0.4  0.652 -0.533\n",
      "3     1.25      0.4 -0.537  0.336\n",
      "4    -1.25      0.3  0.549 -0.382\n",
      "5     1.75      0.4 -0.756  0.487\n",
      "6    -1.75      0.4  0.764 -0.447\n",
      "7     2.00      0.5 -0.865  0.444\n",
      "8    -2.00      0.5  0.877 -0.486\n"
     ]
    }
   ],
   "source": [
    "samplesData = pd.read_csv(samplesFilepath)\n",
    "calibrationData = pd.read_csv(calibrationFilepath)\n",
    "print(calibrationData)"
   ]
  },
  {
   "cell_type": "code",
   "execution_count": 30,
   "metadata": {},
   "outputs": [
    {
     "name": "stdout",
     "output_type": "stream",
     "text": [
      "   Current  Voltage   High    Low\n",
      "8    -2.00      0.5  0.877 -0.486\n",
      "6    -1.75      0.4  0.764 -0.447\n",
      "2    -1.50      0.4  0.652 -0.533\n",
      "4    -1.25      0.3  0.549 -0.382\n",
      "1     0.00      0.0  0.003    NaN\n",
      "3     1.25      0.4 -0.537  0.336\n",
      "0     1.50      0.4 -0.643  0.449\n",
      "5     1.75      0.4 -0.756  0.487\n",
      "7     2.00      0.5 -0.865  0.444\n"
     ]
    }
   ],
   "source": [
    "calibrationData = calibrationData.sort_values('Current')\n",
    "print(calibrationData)"
   ]
  }
 ],
 "metadata": {
  "kernelspec": {
   "display_name": "Python 3.9.12 ('base')",
   "language": "python",
   "name": "python3"
  },
  "language_info": {
   "codemirror_mode": {
    "name": "ipython",
    "version": 3
   },
   "file_extension": ".py",
   "mimetype": "text/x-python",
   "name": "python",
   "nbconvert_exporter": "python",
   "pygments_lexer": "ipython3",
   "version": "3.9.12"
  },
  "orig_nbformat": 4,
  "vscode": {
   "interpreter": {
    "hash": "d8115463bb537f53932787c7ea7780302c2d259b7f01ff93ae6a3c23311d2aa5"
   }
  }
 },
 "nbformat": 4,
 "nbformat_minor": 2
}
